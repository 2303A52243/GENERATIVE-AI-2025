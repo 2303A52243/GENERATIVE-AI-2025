{
  "nbformat": 4,
  "nbformat_minor": 0,
  "metadata": {
    "colab": {
      "provenance": [],
      "authorship_tag": "ABX9TyNymRFcnr6mUeUfBx3f90PK",
      "include_colab_link": true
    },
    "kernelspec": {
      "name": "python3",
      "display_name": "Python 3"
    },
    "language_info": {
      "name": "python"
    }
  },
  "cells": [
    {
      "cell_type": "markdown",
      "metadata": {
        "id": "view-in-github",
        "colab_type": "text"
      },
      "source": [
        "<a href=\"https://colab.research.google.com/github/2303A52243/GENERATIVE-AI-2025/blob/main/2303A52243_Week_No_2_Assignment_No_2.ipynb\" target=\"_parent\"><img src=\"https://colab.research.google.com/assets/colab-badge.svg\" alt=\"Open In Colab\"/></a>"
      ]
    },
    {
      "cell_type": "code",
      "execution_count": 2,
      "metadata": {
        "colab": {
          "base_uri": "https://localhost:8080/"
        },
        "id": "6hcNFQXkJmcD",
        "outputId": "7636d126-5a85-41be-98ef-9ca7c503cc79"
      },
      "outputs": [
        {
          "output_type": "execute_result",
          "data": {
            "text/plain": [
              "array([2., 3.])"
            ]
          },
          "metadata": {},
          "execution_count": 2
        }
      ],
      "source": [
        "#Q1\n",
        "from scipy.optimize import linprog\n",
        "\n",
        "c = [-6, -5]\n",
        "A = [[1, 1], [3, 2]]\n",
        "b = [5, 12]\n",
        "\n",
        "result = linprog(c, A_ub=A, b_ub=b, bounds=[(0, None), (0, None)], method='highs')\n",
        "result.x\n"
      ]
    },
    {
      "cell_type": "code",
      "source": [
        "#Q2\n",
        "from scipy.optimize import linprog\n",
        "\n",
        "c = [-50, -120]\n",
        "A = [[7000, 2000], [10, 30]]\n",
        "b = [700000, 1200]\n",
        "bounds = [(0, None), (0, None)]\n",
        "\n",
        "result = linprog(c, A_ub=A, b_ub=b, bounds=bounds, method='highs')\n",
        "result.x\n"
      ],
      "metadata": {
        "colab": {
          "base_uri": "https://localhost:8080/"
        },
        "id": "inE9zpjfJwZI",
        "outputId": "282e9502-a4b0-49ee-93a1-bde0c8b8fb88"
      },
      "execution_count": 3,
      "outputs": [
        {
          "output_type": "execute_result",
          "data": {
            "text/plain": [
              "array([97.89473684,  7.36842105])"
            ]
          },
          "metadata": {},
          "execution_count": 3
        }
      ]
    }
  ]
}