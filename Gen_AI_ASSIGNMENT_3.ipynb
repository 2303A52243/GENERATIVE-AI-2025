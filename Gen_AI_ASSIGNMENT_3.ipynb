{
  "nbformat": 4,
  "nbformat_minor": 0,
  "metadata": {
    "colab": {
      "provenance": [],
      "authorship_tag": "ABX9TyNkXdy+GsmJk9dyJZ+Lj6ZU",
      "include_colab_link": true
    },
    "kernelspec": {
      "name": "python3",
      "display_name": "Python 3"
    },
    "language_info": {
      "name": "python"
    }
  },
  "cells": [
    {
      "cell_type": "markdown",
      "metadata": {
        "id": "view-in-github",
        "colab_type": "text"
      },
      "source": [
        "<a href=\"https://colab.research.google.com/github/2303A52243/GENERATIVE-AI-2025/blob/main/Gen_AI_ASSIGNMENT_3.ipynb\" target=\"_parent\"><img src=\"https://colab.research.google.com/assets/colab-badge.svg\" alt=\"Open In Colab\"/></a>"
      ]
    },
    {
      "cell_type": "code",
      "source": [
        "# Problem 1\n",
        "def gradient_descent_1(learning_rate=0.01, max_iters=1000, tolerance=1e-6):\n",
        "    def f_prime(x):\n",
        "        return 20 * x**3 + 6 * x\n",
        "\n",
        "    x = 0  # Initial guess\n",
        "    for _ in range(max_iters):\n",
        "        grad = f_prime(x)\n",
        "        new_x = x - learning_rate * grad\n",
        "        if abs(new_x - x) < tolerance:\n",
        "            break\n",
        "        x = new_x\n",
        "    return x"
      ],
      "metadata": {
        "id": "-BIiuoPy_Ty8"
      },
      "execution_count": 5,
      "outputs": []
    },
    {
      "cell_type": "code",
      "source": [
        "# Problem 2\n",
        "def gradient_descent_2(learning_rate=0.01, max_iters=1000, tolerance=1e-6):\n",
        "    def g_prime_x(x):\n",
        "        return 6 * x\n",
        "\n",
        "    def g_prime_y(y):\n",
        "        from math import exp\n",
        "        return -5 * exp(-y)\n",
        "\n",
        "    x, y = 0, 0  # Initial guesses\n",
        "    for _ in range(max_iters):\n",
        "        grad_x = g_prime_x(x)\n",
        "        grad_y = g_prime_y(y)\n",
        "\n",
        "        new_x = x - learning_rate * grad_x\n",
        "        new_y = y - learning_rate * grad_y\n",
        "\n",
        "        if abs(new_x - x) < tolerance and abs(new_y - y) < tolerance:\n",
        "            break\n",
        "\n",
        "        x, y = new_x, new_y\n",
        "    return x, y"
      ],
      "metadata": {
        "id": "4IuQSimO_Zcr"
      },
      "execution_count": 2,
      "outputs": []
    },
    {
      "cell_type": "code",
      "source": [
        "# Problem 3\n",
        "def gradient_descent_3(learning_rate=0.01, max_iters=1000, tolerance=1e-6):\n",
        "    def z_prime(x):\n",
        "        from math import exp\n",
        "        sig = 1 / (1 + exp(-x))\n",
        "        return sig * (1 - sig)\n",
        "\n",
        "    x = 0  # Initial guess\n",
        "    for _ in range(max_iters):\n",
        "        grad = z_prime(x)\n",
        "        new_x = x - learning_rate * grad\n",
        "        if abs(new_x - x) < tolerance:\n",
        "            break\n",
        "        x = new_x\n",
        "    return x"
      ],
      "metadata": {
        "id": "7diJOKZh_f2c"
      },
      "execution_count": 3,
      "outputs": []
    },
    {
      "cell_type": "code",
      "source": [
        "# Problem 4\n",
        "def gradient_descent_4(expected_outputs, inputs, learning_rate=0.01, max_iters=1000, tolerance=1e-6):\n",
        "    def se_gradient(m, c, inputs, expected_outputs):\n",
        "        n = len(inputs)\n",
        "        grad_m = sum(-2 * (y - (m * x + c)) * x for x, y in zip(inputs, expected_outputs)) / n\n",
        "        grad_c = sum(-2 * (y - (m * x + c)) for x, y in zip(inputs, expected_outputs)) / n\n",
        "        return grad_m, grad_c\n",
        "\n",
        "    m, c = 0, 0  # Initial guesses\n",
        "    for _ in range(max_iters):\n",
        "        grad_m, grad_c = se_gradient(m, c, inputs, expected_outputs)\n",
        "\n",
        "        new_m = m - learning_rate * grad_m\n",
        "        new_c = c - learning_rate * grad_c\n",
        "\n",
        "        if abs(new_m - m) < tolerance and abs(new_c - c) < tolerance:\n",
        "            break\n",
        "\n",
        "        m, c = new_m, new_c\n",
        "    return m, c"
      ],
      "metadata": {
        "id": "yiUQPR1P_m9M"
      },
      "execution_count": 4,
      "outputs": []
    }
  ]
}