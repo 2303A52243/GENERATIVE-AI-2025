{
  "nbformat": 4,
  "nbformat_minor": 0,
  "metadata": {
    "colab": {
      "provenance": [],
      "authorship_tag": "ABX9TyNwPwktuXS1C7JB8Q4zkIbp",
      "include_colab_link": true
    },
    "kernelspec": {
      "name": "python3",
      "display_name": "Python 3"
    },
    "language_info": {
      "name": "python"
    }
  },
  "cells": [
    {
      "cell_type": "markdown",
      "metadata": {
        "id": "view-in-github",
        "colab_type": "text"
      },
      "source": [
        "<a href=\"https://colab.research.google.com/github/2303A52243/GENERATIVE-AI-2025/blob/main/2303A52243_Week_No_5_Assignment_No_5_1.ipynb\" target=\"_parent\"><img src=\"https://colab.research.google.com/assets/colab-badge.svg\" alt=\"Open In Colab\"/></a>"
      ]
    },
    {
      "cell_type": "code",
      "execution_count": 5,
      "metadata": {
        "colab": {
          "base_uri": "https://localhost:8080/"
        },
        "id": "dkjEOqn3E-8t",
        "outputId": "2483efa7-0f80-423e-ed02-3385da9cd33f"
      },
      "outputs": [
        {
          "output_type": "stream",
          "name": "stdout",
          "text": [
            "Mean Squared Error on Test Data: 6.141167962474555e-07\n",
            "Enter x1: 0.1\n",
            "Enter x2: 0.2\n",
            "Predicted Output: 0.34381615401978954\n"
          ]
        }
      ],
      "source": [
        "import numpy as np\n",
        "\n",
        "# Sigmoid activation function\n",
        "def sigmoid(x):\n",
        "    return 1 / (1 + np.exp(-x))\n",
        "\n",
        "# Derivative of sigmoid function\n",
        "def sigmoid_derivative(x):\n",
        "    return x * (1 - x)\n",
        "\n",
        "# Linear activation function\n",
        "def linear(x):\n",
        "    return x\n",
        "\n",
        "# Derivative of linear function\n",
        "def linear_derivative(x):\n",
        "    return 1\n",
        "\n",
        "# Training data from Table 1\n",
        "X_train = np.array([[0.1, 0.2], [0.2, 0.3], [0.3, 0.4], [0.6, 0.7], [0.7, 0.8], [0.8, 0.9]])\n",
        "y_train = np.array([[0.3432], [0.3490], [0.3548], [0.3720], [0.3776], [0.3832]])\n",
        "\n",
        "# Test data from Table 2\n",
        "X_test = np.array([[0.4, 0.5], [0.5, 0.6]])\n",
        "y_test = np.array([[0.3606], [0.3663]])\n",
        "\n",
        "# Initialize parameters\n",
        "input_layer_neurons = X_train.shape[1] # 2\n",
        "hidden_layer_neurons = 3  # Example: 3 neurons in the hidden layer\n",
        "output_layer_neurons = 1  # 1 output\n",
        "\n",
        "# Randomly initialize weights and biases\n",
        "np.random.seed(42)\n",
        "weights_input_hidden = np.random.rand(input_layer_neurons, hidden_layer_neurons)\n",
        "bias_hidden = np.random.rand(1, hidden_layer_neurons)\n",
        "weights_hidden_output = np.random.rand(hidden_layer_neurons, output_layer_neurons)\n",
        "bias_output = np.random.rand(1, output_layer_neurons)\n",
        "\n",
        "# Learning rate\n",
        "learning_rate = 0.1\n",
        "epochs = 10000\n",
        "\n",
        "# Backpropagation and gradient descent algorithm\n",
        "for epoch in range(epochs):\n",
        "    # Forward propagation\n",
        "    hidden_input = np.dot(X_train, weights_input_hidden) + bias_hidden\n",
        "    hidden_output = sigmoid(hidden_input)\n",
        "\n",
        "    final_input = np.dot(hidden_output, weights_hidden_output) + bias_output\n",
        "    final_output = linear(final_input)\n",
        "\n",
        "    # Calculate error\n",
        "    error = y_train - final_output\n",
        "\n",
        "    # Backpropagation\n",
        "    d_final_output = error * linear_derivative(final_output)\n",
        "    error_hidden_layer = d_final_output.dot(weights_hidden_output.T)\n",
        "    d_hidden_output = error_hidden_layer * sigmoid_derivative(hidden_output)\n",
        "\n",
        "    # Update weights and biases\n",
        "    weights_hidden_output += hidden_output.T.dot(d_final_output) * learning_rate\n",
        "    bias_output += np.sum(d_final_output, axis=0, keepdims=True) * learning_rate\n",
        "    weights_input_hidden += X_train.T.dot(d_hidden_output) * learning_rate\n",
        "    bias_hidden += np.sum(d_hidden_output, axis=0, keepdims=True) * learning_rate\n",
        "\n",
        "# Mean Square Error on Test Data\n",
        "hidden_input_test = np.dot(X_test, weights_input_hidden) + bias_hidden\n",
        "hidden_output_test = sigmoid(hidden_input_test)\n",
        "\n",
        "final_input_test = np.dot(hidden_output_test, weights_hidden_output) + bias_output\n",
        "final_output_test = linear(final_input_test)\n",
        "\n",
        "mse = np.mean((y_test - final_output_test) ** 2)\n",
        "print(f'Mean Squared Error on Test Data: {mse}')\n",
        "\n",
        "# Predict function\n",
        "def predict(x1, x2):\n",
        "    input_data = np.array([[x1, x2]])\n",
        "    hidden_input = np.dot(input_data, weights_input_hidden) + bias_hidden\n",
        "    hidden_output = sigmoid(hidden_input)\n",
        "\n",
        "    final_input = np.dot(hidden_output, weights_hidden_output) + bias_output\n",
        "    final_output = linear(final_input)\n",
        "\n",
        "    return final_output\n",
        "\n",
        "# User input and prediction\n",
        "x1 = float(input(\"Enter x1: \"))\n",
        "x2 = float(input(\"Enter x2: \"))\n",
        "predicted_output = predict(x1, x2)\n",
        "print(f'Predicted Output: {predicted_output[0][0]}')\n"
      ]
    }
  ]
}