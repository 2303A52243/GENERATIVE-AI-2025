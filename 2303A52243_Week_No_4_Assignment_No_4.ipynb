{
  "nbformat": 4,
  "nbformat_minor": 0,
  "metadata": {
    "colab": {
      "provenance": [],
      "authorship_tag": "ABX9TyP3jJcdMj3v7S+B+scoAglZ",
      "include_colab_link": true
    },
    "kernelspec": {
      "name": "python3",
      "display_name": "Python 3"
    },
    "language_info": {
      "name": "python"
    }
  },
  "cells": [
    {
      "cell_type": "markdown",
      "metadata": {
        "id": "view-in-github",
        "colab_type": "text"
      },
      "source": [
        "<a href=\"https://colab.research.google.com/github/2303A52243/GENERATIVE-AI-2025/blob/main/2303A52243_Week_No_4_Assignment_No_4.ipynb\" target=\"_parent\"><img src=\"https://colab.research.google.com/assets/colab-badge.svg\" alt=\"Open In Colab\"/></a>"
      ]
    },
    {
      "cell_type": "code",
      "execution_count": null,
      "metadata": {
        "id": "wjXEhqF8Cwdk",
        "colab": {
          "base_uri": "https://localhost:8080/"
        },
        "outputId": "7d6a5346-eccf-4f1e-fcd3-cff62d7544f0"
      },
      "outputs": [
        {
          "metadata": {
            "tags": null
          },
          "name": "stdout",
          "output_type": "stream",
          "text": [
            "Epoch 0, MSE: 2.7775544918305695, Weights: [ 0.48704973 -0.15310391  0.63037484], Bias: [1.48972978]\n",
            "Epoch 100, MSE: 0.020517774375941884, Weights: [ 0.21687315 -0.57617278  0.1236732 ], Bias: [0.48113577]\n",
            "Epoch 200, MSE: 0.013768601999531789, Weights: [ 0.22776696 -0.57024281  0.11326736], Bias: [0.41547812]\n",
            "Epoch 300, MSE: 0.012109384873987765, Weights: [ 0.24892502 -0.54780881  0.12316098], Bias: [0.39089568]\n",
            "Epoch 400, MSE: 0.010663907529469574, Weights: [ 0.26907192 -0.52610138  0.13337845], Bias: [0.36940164]\n",
            "Epoch 500, MSE: 0.009397985134765082, Weights: [ 0.28783055 -0.50574931  0.14310488], Bias: [0.34931427]\n",
            "Epoch 600, MSE: 0.00828918970092714, Weights: [ 0.30527523 -0.48669023  0.15232962], Bias: [0.33048276]\n",
            "Epoch 700, MSE: 0.0073179175937104725, Weights: [ 0.32149318 -0.46883874  0.1610749 ], Bias: [0.31282563]\n",
            "Epoch 800, MSE: 0.006467020831493937, Weights: [ 0.33656652 -0.45211402  0.16936345], Bias: [0.29626907]\n",
            "Epoch 900, MSE: 0.005721498138483036, Weights: [ 0.35057186 -0.4364407   0.17721718], Bias: [0.28074399]\n",
            "\n",
            "Testing MSE: 0.005068225065566624\n"
          ]
        }
      ],
      "source": [
        "import numpy as np\n",
        "\n",
        "np.random.seed(42)\n",
        "\n",
        "X_train = np.array([[0.1, 0.2, 0.3],\n",
        "                   [0.2, 0.3, 0.4],\n",
        "                   [0.3, 0.4, 0.5],\n",
        "                   [0.5, 0.6, 0.7],\n",
        "                   [0.1, 0.3, 0.5],\n",
        "                   [0.2, 0.4, 0.6],\n",
        "                   [0.3, 0.5, 0.7],\n",
        "                   [0.4, 0.6, 0.8],\n",
        "                   [0.5, 0.7, 0.1]])\n",
        "\n",
        "y_train = np.array([0.14, 0.20, 0.26, 0.38, 0.22, 0.28, 0.34, 0.40, 0.22])\n",
        "\n",
        "learning_rate = 0.01\n",
        "epochs = 1000\n",
        "\n",
        "weights = np.random.randn(3)\n",
        "bias = np.random.randn(1)\n",
        "\n",
        "for epoch in range(epochs):\n",
        "    y_pred = np.dot(X_train, weights) + bias\n",
        "    error = y_pred - y_train\n",
        "    mse = np.mean(error**2)\n",
        "    d_weights = 2 * np.dot(X_train.T, error) / len(X_train)\n",
        "    d_bias = 2 * np.sum(error) / len(X_train)\n",
        "    weights -= learning_rate * d_weights\n",
        "    bias -= learning_rate * d_bias\n",
        "\n",
        "    if epoch % 100 == 0:\n",
        "        print(f'Epoch {epoch}, MSE: {mse}, Weights: {weights}, Bias: {bias}')\n",
        "\n",
        "X_test = X_train\n",
        "y_test = y_train\n",
        "\n",
        "y_test_pred = np.dot(X_test, weights) + bias\n",
        "mse_test = np.mean((y_test_pred - y_test)**2)\n",
        "print(f'\\nTesting MSE: {mse_test}')\n",
        "\n",
        "def predict(input_data):\n",
        "    input_data = np.array(input_data).reshape(1, -1)\n",
        "    output = np.dot(input_data, weights) + bias\n",
        "    return output[0]\n",
        "\n",
        "x1 = float(input(\"\\nEnter value for x1: \"))\n",
        "x2 = float(input(\"Enter value for x2: \"))\n",
        "x3 = float(input(\"Enter value for x3: \"))\n",
        "\n",
        "user_input = [x1, x2, x3]\n",
        "prediction = predict(user_input)\n",
        "print(f\"\\nPredicted Output for input {user_input}: {prediction}\")\n"
      ]
    },
    {
      "cell_type": "code",
      "source": [
        "#Q2\n",
        "import numpy as np\n",
        "\n",
        "X_train = np.array([[0.1, 0.2, 0.3],\n",
        "                   [0.2, 0.3, 0.4],\n",
        "                   [0.3, 0.4, 0.5],\n",
        "                   [0.5, 0.6, 0.7],\n",
        "                   [0.1, 0.3, 0.5],\n",
        "                   [0.2, 0.4, 0.6],\n",
        "                   [0.3, 0.5, 0.7],\n",
        "                   [0.4, 0.6, 0.8],\n",
        "                   [0.5, 0.7, 0.1]])\n",
        "\n",
        "y_train = np.array([0.5349, 0.5498, 0.5646, 0.5939, 0.5548, 0.5695, 0.5842, 0.5987, 0.5548])\n",
        "\n",
        "X_test = np.array([[0.6, 0.7, 0.8],\n",
        "                  [0.7, 0.8, 0.9]])\n",
        "\n",
        "y_test = np.array([0.6083, 0.6225])\n",
        "\n",
        "learning_rate = 0.1\n",
        "epochs = 1000\n",
        "\n",
        "weights = np.random.randn(3)\n",
        "bias = np.random.randn(1)\n",
        "\n",
        "def sigmoid(x):\n",
        "    return 1 / (1 + np.exp(-x))\n",
        "\n",
        "def sigmoid_derivative(x):\n",
        "    return sigmoid(x) * (1 - sigmoid(x))\n",
        "\n",
        "for epoch in range(epochs):\n",
        "    z = np.dot(X_train, weights) + bias\n",
        "    y_pred = sigmoid(z)\n",
        "    error = y_pred - y_train\n",
        "    mse = np.mean(error**2)\n",
        "\n",
        "    d_weights = 2 * np.dot(X_train.T, error * sigmoid_derivative(z)) / len(X_train)\n",
        "    d_bias = 2 * np.sum(error * sigmoid_derivative(z)) / len(X_train)\n",
        "\n",
        "    weights -= learning_rate * d_weights\n",
        "    bias -= learning_rate * d_bias\n",
        "\n",
        "    if epoch % 100 == 0:\n",
        "        print(f'Epoch {epoch}, MSE: {mse}')\n",
        "\n",
        "y_test_pred = sigmoid(np.dot(X_test, weights) + bias)\n",
        "mse_test = np.mean((y_test_pred - y_test)**2)\n",
        "print(f'\\nTesting MSE: {mse_test}')\n",
        "\n",
        "def predict(input_data):\n",
        "    input_data = np.array(input_data).reshape(1, -1)\n",
        "    output = sigmoid(np.dot(input_data, weights) + bias)\n",
        "    return output[0]\n",
        "\n",
        "x1 = float(input(\"\\nEnter value for x1: \"))\n",
        "x2 = float(input(\"Enter value for x2: \"))\n",
        "x3 = float(input(\"Enter value for x3: \"))\n",
        "\n",
        "user_input = [x1, x2, x3]\n",
        "prediction = predict(user_input)\n",
        "print(f\"\\nPredicted Output for input {user_input}: {prediction}\")\n"
      ],
      "metadata": {
        "id": "53PFgYntDjGv"
      },
      "execution_count": null,
      "outputs": []
    }
  ]
}