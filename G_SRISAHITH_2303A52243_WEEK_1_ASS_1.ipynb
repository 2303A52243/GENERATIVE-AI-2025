{
  "cells": [
    {
      "cell_type": "markdown",
      "metadata": {
        "id": "view-in-github",
        "colab_type": "text"
      },
      "source": [
        "<a href=\"https://colab.research.google.com/github/2303A52243/GENERATIVE-AI-2025/blob/main/G_SRISAHITH_2303A52243_WEEK_1_ASS_1.ipynb\" target=\"_parent\"><img src=\"https://colab.research.google.com/assets/colab-badge.svg\" alt=\"Open In Colab\"/></a>"
      ]
    },
    {
      "cell_type": "code",
      "source": [
        "#TABLE 1\n",
        "import numpy as np\n",
        "import math\n",
        "from sklearn.metrics import mean_absolute_error, mean_squared_error, r2_score\n",
        "\n",
        "Y_actual = np.array([20, 30, 40, 50, 60])\n",
        "Y_pred = np.array([20.5, 30.3, 40.2, 50.6, 60.7])\n",
        "\n",
        "mae = np.mean(np.abs(Y_actual - Y_pred))\n",
        "mse = np.mean((Y_actual - Y_pred)**2)\n",
        "rmse = math.sqrt(mse)\n",
        "r2 = r2_score(Y_actual, Y_pred)\n",
        "\n",
        "print(f\"MAE (Manual): {mae}\")\n",
        "print(f\"MSE (Manual): {mse}\")\n",
        "print(f\"RMSE (Manual): {rmse}\")\n",
        "print(f\"R-squared (Manual): {r2}\")\n",
        "\n",
        "print(f\"MAE (sklearn): {mean_absolute_error(Y_actual, Y_pred)}\")\n",
        "print(f\"MSE (sklearn): {mean_squared_error(Y_actual, Y_pred)}\")\n",
        "print(f\"RMSE (sklearn): {math.sqrt(mean_squared_error(Y_actual, Y_pred))}\")\n",
        "print(f\"R-squared (sklearn): {r2_score(Y_actual, Y_pred)}\")\n"
      ],
      "metadata": {
        "id": "Pq6WQe3I5xr6",
        "outputId": "272fd31d-0269-4dd9-c667-05422d4e08a2",
        "colab": {
          "base_uri": "https://localhost:8080/"
        }
      },
      "execution_count": null,
      "outputs": [
        {
          "output_type": "stream",
          "name": "stdout",
          "text": [
            "MAE (Manual): 0.4600000000000016\n",
            "MSE (Manual): 0.24600000000000147\n",
            "RMSE (Manual): 0.49598387070549127\n",
            "R-squared (Manual): 0.99877\n",
            "MAE (sklearn): 0.4600000000000016\n",
            "MSE (sklearn): 0.24600000000000147\n",
            "RMSE (sklearn): 0.49598387070549127\n",
            "R-squared (sklearn): 0.99877\n"
          ]
        }
      ]
    },
    {
      "cell_type": "code",
      "source": [
        "#TABLE 2\n",
        "import numpy as np\n",
        "from sklearn.metrics import precision_score, recall_score, f1_score, accuracy_score, confusion_matrix\n",
        "\n",
        "Y_actual_class = np.array([0, 0, 0, 0, 0, 0, 0, 0, 1, 1, 1, 1, 2, 2, 2, 2, 1, 1, 0, 2, 2, 2, 1, 1, 2])\n",
        "Y_pred_class = np.array([0, 0, 0, 0, 0, 0, 1, 0, 1, 2, 2, 1, 2, 2, 2, 1, 1, 1, 0, 0, 2, 2, 2, 1, 2])\n",
        "\n",
        "precision = precision_score(Y_actual_class, Y_pred_class, average='weighted', zero_division=1)\n",
        "recall = recall_score(Y_actual_class, Y_pred_class, average='weighted', zero_division=1)\n",
        "f1 = f1_score(Y_actual_class, Y_pred_class, average='weighted', zero_division=1)\n",
        "accuracy = accuracy_score(Y_actual_class, Y_pred_class)\n",
        "conf_matrix = confusion_matrix(Y_actual_class, Y_pred_class)\n",
        "\n",
        "print(f\"Precision (Manual): {precision}\")\n",
        "print(f\"Recall (Manual): {recall}\")\n",
        "print(f\"F1-Score (Manual): {f1}\")\n",
        "print(f\"Accuracy (Manual): {accuracy}\")\n",
        "print(f\"Confusion Matrix (Manual): \\n{conf_matrix}\")\n",
        "\n",
        "print(f\"Precision (sklearn): {precision_score(Y_actual_class, Y_pred_class, average='weighted', zero_division=1)}\")\n",
        "print(f\"Recall (sklearn): {recall_score(Y_actual_class, Y_pred_class, average='weighted', zero_division=1)}\")\n",
        "print(f\"F1-Score (sklearn): {f1_score(Y_actual_class, Y_pred_class, average='weighted', zero_division=1)}\")\n",
        "print(f\"Accuracy (sklearn): {accuracy_score(Y_actual_class, Y_pred_class)}\")\n",
        "print(f\"Confusion Matrix (sklearn): \\n{confusion_matrix(Y_actual_class, Y_pred_class)}\")\n"
      ],
      "metadata": {
        "id": "0Nu1B9Ic6c8a",
        "outputId": "bfaf6a4c-f258-45af-ee2d-021f152b8d7f",
        "colab": {
          "base_uri": "https://localhost:8080/"
        }
      },
      "execution_count": null,
      "outputs": [
        {
          "output_type": "stream",
          "name": "stdout",
          "text": [
            "Precision (Manual): 0.7619047619047619\n",
            "Recall (Manual): 0.76\n",
            "F1-Score (Manual): 0.7592156862745099\n",
            "Accuracy (Manual): 0.76\n",
            "Confusion Matrix (Manual): \n",
            "[[8 1 0]\n",
            " [0 5 3]\n",
            " [1 1 6]]\n",
            "Precision (sklearn): 0.7619047619047619\n",
            "Recall (sklearn): 0.76\n",
            "F1-Score (sklearn): 0.7592156862745099\n",
            "Accuracy (sklearn): 0.76\n",
            "Confusion Matrix (sklearn): \n",
            "[[8 1 0]\n",
            " [0 5 3]\n",
            " [1 1 6]]\n"
          ]
        }
      ]
    }
  ],
  "metadata": {
    "colab": {
      "toc_visible": true,
      "provenance": [],
      "include_colab_link": true
    },
    "kernelspec": {
      "display_name": "Python 3",
      "name": "python3"
    }
  },
  "nbformat": 4,
  "nbformat_minor": 0
}